{
 "cells": [
  {
   "cell_type": "markdown",
   "id": "d196c95f-6190-4cce-a89e-72ee9206945a",
   "metadata": {},
   "source": [
    "### Import Python Libraries"
   ]
  },
  {
   "cell_type": "code",
   "execution_count": 84,
   "id": "c5a3e342-6ecc-41f6-a185-68a056d5ba39",
   "metadata": {},
   "outputs": [],
   "source": [
    "import pandas as pd\n",
    "import numpy as np\n",
    "import seaborn as sns\n",
    "import matplotlib.pyplot as plt"
   ]
  },
  {
   "cell_type": "markdown",
   "id": "4e796f54-9461-48d8-ad3e-a85450ffae70",
   "metadata": {},
   "source": [
    "### Load The Dataset"
   ]
  },
  {
   "cell_type": "code",
   "execution_count": 4,
   "id": "59166d32-79bb-4613-8a8d-b0f070c8d60d",
   "metadata": {},
   "outputs": [],
   "source": [
    "df = pd.read_csv('C:\\\\Users\\\\HP\\\\OneDrive\\\\Desktop\\\\Song Dataset.csv')"
   ]
  },
  {
   "cell_type": "markdown",
   "id": "5ef11521-e80d-4449-91c0-0fced1e9071f",
   "metadata": {},
   "source": [
    "### Display The DataFrame Before Pre-Processing"
   ]
  },
  {
   "cell_type": "code",
   "execution_count": 6,
   "id": "219b7ea6-d78c-4b19-a5aa-09686786def9",
   "metadata": {},
   "outputs": [
    {
     "data": {
      "text/html": [
       "<div>\n",
       "<style scoped>\n",
       "    .dataframe tbody tr th:only-of-type {\n",
       "        vertical-align: middle;\n",
       "    }\n",
       "\n",
       "    .dataframe tbody tr th {\n",
       "        vertical-align: top;\n",
       "    }\n",
       "\n",
       "    .dataframe thead th {\n",
       "        text-align: right;\n",
       "    }\n",
       "</style>\n",
       "<table border=\"1\" class=\"dataframe\">\n",
       "  <thead>\n",
       "    <tr style=\"text-align: right;\">\n",
       "      <th></th>\n",
       "      <th>Title</th>\n",
       "      <th>Artist</th>\n",
       "      <th>Album</th>\n",
       "      <th>Genre</th>\n",
       "      <th>Release Date</th>\n",
       "      <th>Duration</th>\n",
       "      <th>Popularity</th>\n",
       "    </tr>\n",
       "  </thead>\n",
       "  <tbody>\n",
       "    <tr>\n",
       "      <th>0</th>\n",
       "      <td>Include name this.</td>\n",
       "      <td>Patrick Anderson</td>\n",
       "      <td>Care.</td>\n",
       "      <td>R&amp;B</td>\n",
       "      <td>09-01-2008</td>\n",
       "      <td>262</td>\n",
       "      <td>71</td>\n",
       "    </tr>\n",
       "    <tr>\n",
       "      <th>1</th>\n",
       "      <td>Manage west energy.</td>\n",
       "      <td>Eric Miller</td>\n",
       "      <td>Raise get.</td>\n",
       "      <td>Jazz</td>\n",
       "      <td>20-08-2011</td>\n",
       "      <td>187</td>\n",
       "      <td>37</td>\n",
       "    </tr>\n",
       "    <tr>\n",
       "      <th>2</th>\n",
       "      <td>Evening court painting.</td>\n",
       "      <td>Richard Curry</td>\n",
       "      <td>Sport.</td>\n",
       "      <td>Electronic</td>\n",
       "      <td>30-05-2010</td>\n",
       "      <td>212</td>\n",
       "      <td>58</td>\n",
       "    </tr>\n",
       "    <tr>\n",
       "      <th>3</th>\n",
       "      <td>Section turn hour.</td>\n",
       "      <td>James Smith</td>\n",
       "      <td>Full.</td>\n",
       "      <td>Hip-Hop</td>\n",
       "      <td>12-10-2014</td>\n",
       "      <td>272</td>\n",
       "      <td>59</td>\n",
       "    </tr>\n",
       "    <tr>\n",
       "      <th>4</th>\n",
       "      <td>Five agreement teach.</td>\n",
       "      <td>Amy Rodriguez</td>\n",
       "      <td>Eat.</td>\n",
       "      <td>Blues</td>\n",
       "      <td>09-06-2005</td>\n",
       "      <td>131</td>\n",
       "      <td>34</td>\n",
       "    </tr>\n",
       "    <tr>\n",
       "      <th>...</th>\n",
       "      <td>...</td>\n",
       "      <td>...</td>\n",
       "      <td>...</td>\n",
       "      <td>...</td>\n",
       "      <td>...</td>\n",
       "      <td>...</td>\n",
       "      <td>...</td>\n",
       "    </tr>\n",
       "    <tr>\n",
       "      <th>49995</th>\n",
       "      <td>Thing.</td>\n",
       "      <td>Brandon Thomas</td>\n",
       "      <td>Lawyer sign.</td>\n",
       "      <td>Rock</td>\n",
       "      <td>07-06-2008</td>\n",
       "      <td>300</td>\n",
       "      <td>95</td>\n",
       "    </tr>\n",
       "    <tr>\n",
       "      <th>49996</th>\n",
       "      <td>Option.</td>\n",
       "      <td>Barry White</td>\n",
       "      <td>Cold.</td>\n",
       "      <td>Pop</td>\n",
       "      <td>06-09-2016</td>\n",
       "      <td>220</td>\n",
       "      <td>23</td>\n",
       "    </tr>\n",
       "    <tr>\n",
       "      <th>49997</th>\n",
       "      <td>Ability ever.</td>\n",
       "      <td>Leah Obrien</td>\n",
       "      <td>Trade.</td>\n",
       "      <td>Blues</td>\n",
       "      <td>16-10-2013</td>\n",
       "      <td>257</td>\n",
       "      <td>79</td>\n",
       "    </tr>\n",
       "    <tr>\n",
       "      <th>49998</th>\n",
       "      <td>Occur claim who.</td>\n",
       "      <td>Ashley James</td>\n",
       "      <td>Explain moment.</td>\n",
       "      <td>Jazz</td>\n",
       "      <td>06-03-2018</td>\n",
       "      <td>262</td>\n",
       "      <td>22</td>\n",
       "    </tr>\n",
       "    <tr>\n",
       "      <th>49999</th>\n",
       "      <td>Value.</td>\n",
       "      <td>John Wong</td>\n",
       "      <td>Each.</td>\n",
       "      <td>Country</td>\n",
       "      <td>26-11-2002</td>\n",
       "      <td>203</td>\n",
       "      <td>70</td>\n",
       "    </tr>\n",
       "  </tbody>\n",
       "</table>\n",
       "<p>50000 rows × 7 columns</p>\n",
       "</div>"
      ],
      "text/plain": [
       "                         Title            Artist            Album       Genre  \\\n",
       "0           Include name this.  Patrick Anderson            Care.         R&B   \n",
       "1          Manage west energy.       Eric Miller       Raise get.        Jazz   \n",
       "2      Evening court painting.     Richard Curry           Sport.  Electronic   \n",
       "3           Section turn hour.       James Smith            Full.     Hip-Hop   \n",
       "4        Five agreement teach.     Amy Rodriguez             Eat.       Blues   \n",
       "...                        ...               ...              ...         ...   \n",
       "49995                   Thing.    Brandon Thomas     Lawyer sign.        Rock   \n",
       "49996                  Option.       Barry White            Cold.         Pop   \n",
       "49997            Ability ever.       Leah Obrien           Trade.       Blues   \n",
       "49998         Occur claim who.      Ashley James  Explain moment.        Jazz   \n",
       "49999                   Value.         John Wong            Each.     Country   \n",
       "\n",
       "      Release Date  Duration  Popularity  \n",
       "0       09-01-2008       262          71  \n",
       "1       20-08-2011       187          37  \n",
       "2       30-05-2010       212          58  \n",
       "3       12-10-2014       272          59  \n",
       "4       09-06-2005       131          34  \n",
       "...            ...       ...         ...  \n",
       "49995   07-06-2008       300          95  \n",
       "49996   06-09-2016       220          23  \n",
       "49997   16-10-2013       257          79  \n",
       "49998   06-03-2018       262          22  \n",
       "49999   26-11-2002       203          70  \n",
       "\n",
       "[50000 rows x 7 columns]"
      ]
     },
     "execution_count": 6,
     "metadata": {},
     "output_type": "execute_result"
    }
   ],
   "source": [
    "df"
   ]
  },
  {
   "cell_type": "markdown",
   "id": "a9018393-0b7d-4801-9e4e-e1ace7d0def3",
   "metadata": {},
   "source": [
    "### Count Total Number Of Rows And Columns Of A DataFrame"
   ]
  },
  {
   "cell_type": "code",
   "execution_count": 8,
   "id": "67a847ec-b8ed-4ddf-b137-92002bd1b72f",
   "metadata": {},
   "outputs": [
    {
     "data": {
      "text/plain": [
       "(50000, 7)"
      ]
     },
     "execution_count": 8,
     "metadata": {},
     "output_type": "execute_result"
    }
   ],
   "source": [
    "df.shape"
   ]
  },
  {
   "cell_type": "markdown",
   "id": "38f00887-30bb-4c77-a901-c91f8160f084",
   "metadata": {},
   "source": [
    "### Provide Summary Of A DataFrame"
   ]
  },
  {
   "cell_type": "code",
   "execution_count": 10,
   "id": "c8d6fe45-d1c3-45db-9566-ffe210be31de",
   "metadata": {},
   "outputs": [
    {
     "name": "stdout",
     "output_type": "stream",
     "text": [
      "<class 'pandas.core.frame.DataFrame'>\n",
      "RangeIndex: 50000 entries, 0 to 49999\n",
      "Data columns (total 7 columns):\n",
      " #   Column        Non-Null Count  Dtype \n",
      "---  ------        --------------  ----- \n",
      " 0   Title         50000 non-null  object\n",
      " 1   Artist        50000 non-null  object\n",
      " 2   Album         50000 non-null  object\n",
      " 3   Genre         50000 non-null  object\n",
      " 4   Release Date  50000 non-null  object\n",
      " 5   Duration      50000 non-null  int64 \n",
      " 6   Popularity    50000 non-null  int64 \n",
      "dtypes: int64(2), object(5)\n",
      "memory usage: 2.7+ MB\n"
     ]
    }
   ],
   "source": [
    "df.info()"
   ]
  },
  {
   "cell_type": "markdown",
   "id": "f1a64a51-29f4-47ba-8de9-6c840ef7e701",
   "metadata": {},
   "source": [
    "### Count Total Number Of Null Values"
   ]
  },
  {
   "cell_type": "code",
   "execution_count": 12,
   "id": "6c0a7230-fefb-4e0f-ada5-d926c49951e5",
   "metadata": {},
   "outputs": [
    {
     "data": {
      "text/plain": [
       "Title           0\n",
       "Artist          0\n",
       "Album           0\n",
       "Genre           0\n",
       "Release Date    0\n",
       "Duration        0\n",
       "Popularity      0\n",
       "dtype: int64"
      ]
     },
     "execution_count": 12,
     "metadata": {},
     "output_type": "execute_result"
    }
   ],
   "source": [
    "df.isnull().sum()"
   ]
  },
  {
   "cell_type": "markdown",
   "id": "f16645fa-3073-4363-a43a-16c7784f721a",
   "metadata": {},
   "source": [
    "### Checking For The Duplicates"
   ]
  },
  {
   "cell_type": "code",
   "execution_count": 18,
   "id": "7a362f1d-b02b-418b-a049-89f81eab862a",
   "metadata": {},
   "outputs": [
    {
     "data": {
      "text/plain": [
       "0        False\n",
       "1        False\n",
       "2        False\n",
       "3        False\n",
       "4        False\n",
       "         ...  \n",
       "49995    False\n",
       "49996    False\n",
       "49997    False\n",
       "49998    False\n",
       "49999    False\n",
       "Length: 50000, dtype: bool"
      ]
     },
     "execution_count": 18,
     "metadata": {},
     "output_type": "execute_result"
    }
   ],
   "source": [
    "df.duplicated()"
   ]
  },
  {
   "cell_type": "markdown",
   "id": "70988b64-6c93-42bf-8207-d3514a57b7d6",
   "metadata": {},
   "source": [
    "### Return True Count"
   ]
  },
  {
   "cell_type": "code",
   "execution_count": 23,
   "id": "4fcc8592-25bb-4f1e-adb4-3baedb7c781c",
   "metadata": {},
   "outputs": [
    {
     "data": {
      "text/plain": [
       "0"
      ]
     },
     "execution_count": 23,
     "metadata": {},
     "output_type": "execute_result"
    }
   ],
   "source": [
    "trueCount = df.duplicated().sum()\n",
    "trueCount"
   ]
  },
  {
   "cell_type": "markdown",
   "id": "3b2358fa-bfb3-48bc-9a3e-fea76c899201",
   "metadata": {},
   "source": [
    "### Return False Count"
   ]
  },
  {
   "cell_type": "code",
   "execution_count": 26,
   "id": "4b7e7d5a-7170-4390-9851-e922228541fc",
   "metadata": {},
   "outputs": [
    {
     "data": {
      "text/plain": [
       "50000"
      ]
     },
     "execution_count": 26,
     "metadata": {},
     "output_type": "execute_result"
    }
   ],
   "source": [
    "falseCount = (~df.duplicated()).sum()\n",
    "falseCount"
   ]
  },
  {
   "cell_type": "markdown",
   "id": "49f249d7-5fcf-4568-b87c-db126594a9b3",
   "metadata": {},
   "source": [
    "### Convert 'Release Date' Column to datetime Format"
   ]
  },
  {
   "cell_type": "code",
   "execution_count": 29,
   "id": "f54670fd-ded9-4869-bd9c-782189dd7b1b",
   "metadata": {},
   "outputs": [
    {
     "data": {
      "text/html": [
       "<div>\n",
       "<style scoped>\n",
       "    .dataframe tbody tr th:only-of-type {\n",
       "        vertical-align: middle;\n",
       "    }\n",
       "\n",
       "    .dataframe tbody tr th {\n",
       "        vertical-align: top;\n",
       "    }\n",
       "\n",
       "    .dataframe thead th {\n",
       "        text-align: right;\n",
       "    }\n",
       "</style>\n",
       "<table border=\"1\" class=\"dataframe\">\n",
       "  <thead>\n",
       "    <tr style=\"text-align: right;\">\n",
       "      <th></th>\n",
       "      <th>Title</th>\n",
       "      <th>Artist</th>\n",
       "      <th>Album</th>\n",
       "      <th>Genre</th>\n",
       "      <th>Release Date</th>\n",
       "      <th>Duration</th>\n",
       "      <th>Popularity</th>\n",
       "    </tr>\n",
       "  </thead>\n",
       "  <tbody>\n",
       "    <tr>\n",
       "      <th>0</th>\n",
       "      <td>Include name this.</td>\n",
       "      <td>Patrick Anderson</td>\n",
       "      <td>Care.</td>\n",
       "      <td>R&amp;B</td>\n",
       "      <td>2008-01-09</td>\n",
       "      <td>262</td>\n",
       "      <td>71</td>\n",
       "    </tr>\n",
       "    <tr>\n",
       "      <th>1</th>\n",
       "      <td>Manage west energy.</td>\n",
       "      <td>Eric Miller</td>\n",
       "      <td>Raise get.</td>\n",
       "      <td>Jazz</td>\n",
       "      <td>2011-08-20</td>\n",
       "      <td>187</td>\n",
       "      <td>37</td>\n",
       "    </tr>\n",
       "    <tr>\n",
       "      <th>2</th>\n",
       "      <td>Evening court painting.</td>\n",
       "      <td>Richard Curry</td>\n",
       "      <td>Sport.</td>\n",
       "      <td>Electronic</td>\n",
       "      <td>2010-05-30</td>\n",
       "      <td>212</td>\n",
       "      <td>58</td>\n",
       "    </tr>\n",
       "    <tr>\n",
       "      <th>3</th>\n",
       "      <td>Section turn hour.</td>\n",
       "      <td>James Smith</td>\n",
       "      <td>Full.</td>\n",
       "      <td>Hip-Hop</td>\n",
       "      <td>2014-10-12</td>\n",
       "      <td>272</td>\n",
       "      <td>59</td>\n",
       "    </tr>\n",
       "    <tr>\n",
       "      <th>4</th>\n",
       "      <td>Five agreement teach.</td>\n",
       "      <td>Amy Rodriguez</td>\n",
       "      <td>Eat.</td>\n",
       "      <td>Blues</td>\n",
       "      <td>2005-06-09</td>\n",
       "      <td>131</td>\n",
       "      <td>34</td>\n",
       "    </tr>\n",
       "    <tr>\n",
       "      <th>...</th>\n",
       "      <td>...</td>\n",
       "      <td>...</td>\n",
       "      <td>...</td>\n",
       "      <td>...</td>\n",
       "      <td>...</td>\n",
       "      <td>...</td>\n",
       "      <td>...</td>\n",
       "    </tr>\n",
       "    <tr>\n",
       "      <th>49995</th>\n",
       "      <td>Thing.</td>\n",
       "      <td>Brandon Thomas</td>\n",
       "      <td>Lawyer sign.</td>\n",
       "      <td>Rock</td>\n",
       "      <td>2008-06-07</td>\n",
       "      <td>300</td>\n",
       "      <td>95</td>\n",
       "    </tr>\n",
       "    <tr>\n",
       "      <th>49996</th>\n",
       "      <td>Option.</td>\n",
       "      <td>Barry White</td>\n",
       "      <td>Cold.</td>\n",
       "      <td>Pop</td>\n",
       "      <td>2016-09-06</td>\n",
       "      <td>220</td>\n",
       "      <td>23</td>\n",
       "    </tr>\n",
       "    <tr>\n",
       "      <th>49997</th>\n",
       "      <td>Ability ever.</td>\n",
       "      <td>Leah Obrien</td>\n",
       "      <td>Trade.</td>\n",
       "      <td>Blues</td>\n",
       "      <td>2013-10-16</td>\n",
       "      <td>257</td>\n",
       "      <td>79</td>\n",
       "    </tr>\n",
       "    <tr>\n",
       "      <th>49998</th>\n",
       "      <td>Occur claim who.</td>\n",
       "      <td>Ashley James</td>\n",
       "      <td>Explain moment.</td>\n",
       "      <td>Jazz</td>\n",
       "      <td>2018-03-06</td>\n",
       "      <td>262</td>\n",
       "      <td>22</td>\n",
       "    </tr>\n",
       "    <tr>\n",
       "      <th>49999</th>\n",
       "      <td>Value.</td>\n",
       "      <td>John Wong</td>\n",
       "      <td>Each.</td>\n",
       "      <td>Country</td>\n",
       "      <td>2002-11-26</td>\n",
       "      <td>203</td>\n",
       "      <td>70</td>\n",
       "    </tr>\n",
       "  </tbody>\n",
       "</table>\n",
       "<p>50000 rows × 7 columns</p>\n",
       "</div>"
      ],
      "text/plain": [
       "                         Title            Artist            Album       Genre  \\\n",
       "0           Include name this.  Patrick Anderson            Care.         R&B   \n",
       "1          Manage west energy.       Eric Miller       Raise get.        Jazz   \n",
       "2      Evening court painting.     Richard Curry           Sport.  Electronic   \n",
       "3           Section turn hour.       James Smith            Full.     Hip-Hop   \n",
       "4        Five agreement teach.     Amy Rodriguez             Eat.       Blues   \n",
       "...                        ...               ...              ...         ...   \n",
       "49995                   Thing.    Brandon Thomas     Lawyer sign.        Rock   \n",
       "49996                  Option.       Barry White            Cold.         Pop   \n",
       "49997            Ability ever.       Leah Obrien           Trade.       Blues   \n",
       "49998         Occur claim who.      Ashley James  Explain moment.        Jazz   \n",
       "49999                   Value.         John Wong            Each.     Country   \n",
       "\n",
       "      Release Date  Duration  Popularity  \n",
       "0       2008-01-09       262          71  \n",
       "1       2011-08-20       187          37  \n",
       "2       2010-05-30       212          58  \n",
       "3       2014-10-12       272          59  \n",
       "4       2005-06-09       131          34  \n",
       "...            ...       ...         ...  \n",
       "49995   2008-06-07       300          95  \n",
       "49996   2016-09-06       220          23  \n",
       "49997   2013-10-16       257          79  \n",
       "49998   2018-03-06       262          22  \n",
       "49999   2002-11-26       203          70  \n",
       "\n",
       "[50000 rows x 7 columns]"
      ]
     },
     "execution_count": 29,
     "metadata": {},
     "output_type": "execute_result"
    }
   ],
   "source": [
    "df['Release Date'] = pd.to_datetime(df['Release Date'], format='%d-%m-%Y')\n",
    "df"
   ]
  },
  {
   "cell_type": "markdown",
   "id": "64416375-edb1-4a02-897e-63fa2075dbd3",
   "metadata": {},
   "source": [
    "### Checking For The Unique Elements In A Column"
   ]
  },
  {
   "cell_type": "code",
   "execution_count": 32,
   "id": "262a06a5-e6b3-4786-9afb-06c9db236453",
   "metadata": {},
   "outputs": [
    {
     "data": {
      "text/plain": [
       "40156"
      ]
     },
     "execution_count": 32,
     "metadata": {},
     "output_type": "execute_result"
    }
   ],
   "source": [
    "df['Artist'].nunique()"
   ]
  },
  {
   "cell_type": "code",
   "execution_count": 34,
   "id": "bd0b7007-7446-4a1f-b232-7911dddfffb5",
   "metadata": {},
   "outputs": [
    {
     "data": {
      "text/plain": [
       "46516"
      ]
     },
     "execution_count": 34,
     "metadata": {},
     "output_type": "execute_result"
    }
   ],
   "source": [
    "df['Title'].nunique()"
   ]
  },
  {
   "cell_type": "code",
   "execution_count": 36,
   "id": "648b7078-2106-49fe-8084-d2f0c8d7fb3a",
   "metadata": {},
   "outputs": [
    {
     "data": {
      "text/plain": [
       "25959"
      ]
     },
     "execution_count": 36,
     "metadata": {},
     "output_type": "execute_result"
    }
   ],
   "source": [
    "df['Album'].nunique()"
   ]
  },
  {
   "cell_type": "markdown",
   "id": "74802882-92ce-40b3-b965-8370cfbe681c",
   "metadata": {},
   "source": [
    "### Display The DataFrame After Pre-Processing"
   ]
  },
  {
   "cell_type": "code",
   "execution_count": 39,
   "id": "4980aadc-c6f1-4dea-9d43-2303c3f6107f",
   "metadata": {},
   "outputs": [
    {
     "data": {
      "text/html": [
       "<div>\n",
       "<style scoped>\n",
       "    .dataframe tbody tr th:only-of-type {\n",
       "        vertical-align: middle;\n",
       "    }\n",
       "\n",
       "    .dataframe tbody tr th {\n",
       "        vertical-align: top;\n",
       "    }\n",
       "\n",
       "    .dataframe thead th {\n",
       "        text-align: right;\n",
       "    }\n",
       "</style>\n",
       "<table border=\"1\" class=\"dataframe\">\n",
       "  <thead>\n",
       "    <tr style=\"text-align: right;\">\n",
       "      <th></th>\n",
       "      <th>Title</th>\n",
       "      <th>Artist</th>\n",
       "      <th>Album</th>\n",
       "      <th>Genre</th>\n",
       "      <th>Release Date</th>\n",
       "      <th>Duration</th>\n",
       "      <th>Popularity</th>\n",
       "    </tr>\n",
       "  </thead>\n",
       "  <tbody>\n",
       "    <tr>\n",
       "      <th>0</th>\n",
       "      <td>Include name this.</td>\n",
       "      <td>Patrick Anderson</td>\n",
       "      <td>Care.</td>\n",
       "      <td>R&amp;B</td>\n",
       "      <td>2008-01-09</td>\n",
       "      <td>262</td>\n",
       "      <td>71</td>\n",
       "    </tr>\n",
       "    <tr>\n",
       "      <th>1</th>\n",
       "      <td>Manage west energy.</td>\n",
       "      <td>Eric Miller</td>\n",
       "      <td>Raise get.</td>\n",
       "      <td>Jazz</td>\n",
       "      <td>2011-08-20</td>\n",
       "      <td>187</td>\n",
       "      <td>37</td>\n",
       "    </tr>\n",
       "    <tr>\n",
       "      <th>2</th>\n",
       "      <td>Evening court painting.</td>\n",
       "      <td>Richard Curry</td>\n",
       "      <td>Sport.</td>\n",
       "      <td>Electronic</td>\n",
       "      <td>2010-05-30</td>\n",
       "      <td>212</td>\n",
       "      <td>58</td>\n",
       "    </tr>\n",
       "    <tr>\n",
       "      <th>3</th>\n",
       "      <td>Section turn hour.</td>\n",
       "      <td>James Smith</td>\n",
       "      <td>Full.</td>\n",
       "      <td>Hip-Hop</td>\n",
       "      <td>2014-10-12</td>\n",
       "      <td>272</td>\n",
       "      <td>59</td>\n",
       "    </tr>\n",
       "    <tr>\n",
       "      <th>4</th>\n",
       "      <td>Five agreement teach.</td>\n",
       "      <td>Amy Rodriguez</td>\n",
       "      <td>Eat.</td>\n",
       "      <td>Blues</td>\n",
       "      <td>2005-06-09</td>\n",
       "      <td>131</td>\n",
       "      <td>34</td>\n",
       "    </tr>\n",
       "    <tr>\n",
       "      <th>...</th>\n",
       "      <td>...</td>\n",
       "      <td>...</td>\n",
       "      <td>...</td>\n",
       "      <td>...</td>\n",
       "      <td>...</td>\n",
       "      <td>...</td>\n",
       "      <td>...</td>\n",
       "    </tr>\n",
       "    <tr>\n",
       "      <th>49995</th>\n",
       "      <td>Thing.</td>\n",
       "      <td>Brandon Thomas</td>\n",
       "      <td>Lawyer sign.</td>\n",
       "      <td>Rock</td>\n",
       "      <td>2008-06-07</td>\n",
       "      <td>300</td>\n",
       "      <td>95</td>\n",
       "    </tr>\n",
       "    <tr>\n",
       "      <th>49996</th>\n",
       "      <td>Option.</td>\n",
       "      <td>Barry White</td>\n",
       "      <td>Cold.</td>\n",
       "      <td>Pop</td>\n",
       "      <td>2016-09-06</td>\n",
       "      <td>220</td>\n",
       "      <td>23</td>\n",
       "    </tr>\n",
       "    <tr>\n",
       "      <th>49997</th>\n",
       "      <td>Ability ever.</td>\n",
       "      <td>Leah Obrien</td>\n",
       "      <td>Trade.</td>\n",
       "      <td>Blues</td>\n",
       "      <td>2013-10-16</td>\n",
       "      <td>257</td>\n",
       "      <td>79</td>\n",
       "    </tr>\n",
       "    <tr>\n",
       "      <th>49998</th>\n",
       "      <td>Occur claim who.</td>\n",
       "      <td>Ashley James</td>\n",
       "      <td>Explain moment.</td>\n",
       "      <td>Jazz</td>\n",
       "      <td>2018-03-06</td>\n",
       "      <td>262</td>\n",
       "      <td>22</td>\n",
       "    </tr>\n",
       "    <tr>\n",
       "      <th>49999</th>\n",
       "      <td>Value.</td>\n",
       "      <td>John Wong</td>\n",
       "      <td>Each.</td>\n",
       "      <td>Country</td>\n",
       "      <td>2002-11-26</td>\n",
       "      <td>203</td>\n",
       "      <td>70</td>\n",
       "    </tr>\n",
       "  </tbody>\n",
       "</table>\n",
       "<p>50000 rows × 7 columns</p>\n",
       "</div>"
      ],
      "text/plain": [
       "                         Title            Artist            Album       Genre  \\\n",
       "0           Include name this.  Patrick Anderson            Care.         R&B   \n",
       "1          Manage west energy.       Eric Miller       Raise get.        Jazz   \n",
       "2      Evening court painting.     Richard Curry           Sport.  Electronic   \n",
       "3           Section turn hour.       James Smith            Full.     Hip-Hop   \n",
       "4        Five agreement teach.     Amy Rodriguez             Eat.       Blues   \n",
       "...                        ...               ...              ...         ...   \n",
       "49995                   Thing.    Brandon Thomas     Lawyer sign.        Rock   \n",
       "49996                  Option.       Barry White            Cold.         Pop   \n",
       "49997            Ability ever.       Leah Obrien           Trade.       Blues   \n",
       "49998         Occur claim who.      Ashley James  Explain moment.        Jazz   \n",
       "49999                   Value.         John Wong            Each.     Country   \n",
       "\n",
       "      Release Date  Duration  Popularity  \n",
       "0       2008-01-09       262          71  \n",
       "1       2011-08-20       187          37  \n",
       "2       2010-05-30       212          58  \n",
       "3       2014-10-12       272          59  \n",
       "4       2005-06-09       131          34  \n",
       "...            ...       ...         ...  \n",
       "49995   2008-06-07       300          95  \n",
       "49996   2016-09-06       220          23  \n",
       "49997   2013-10-16       257          79  \n",
       "49998   2018-03-06       262          22  \n",
       "49999   2002-11-26       203          70  \n",
       "\n",
       "[50000 rows x 7 columns]"
      ]
     },
     "execution_count": 39,
     "metadata": {},
     "output_type": "execute_result"
    }
   ],
   "source": [
    "df"
   ]
  },
  {
   "cell_type": "markdown",
   "id": "2601e052-bcc8-4e1e-8976-fd348ca80978",
   "metadata": {},
   "source": [
    "### Count The Occurrence Of Each Genre In The Dataset"
   ]
  },
  {
   "cell_type": "code",
   "execution_count": 42,
   "id": "40406a01-1299-4e6e-8f6e-6d1a3167a44e",
   "metadata": {},
   "outputs": [
    {
     "data": {
      "text/plain": [
       "Genre\n",
       "Country       5176\n",
       "Blues         5101\n",
       "Hip-Hop       5033\n",
       "Pop           5026\n",
       "R&B           4973\n",
       "Classical     4972\n",
       "Electronic    4968\n",
       "Reggae        4946\n",
       "Jazz          4939\n",
       "Rock          4866\n",
       "Name: count, dtype: int64"
      ]
     },
     "execution_count": 42,
     "metadata": {},
     "output_type": "execute_result"
    }
   ],
   "source": [
    "genreCount = df['Genre'].value_counts()\n",
    "genreCount"
   ]
  },
  {
   "cell_type": "markdown",
   "id": "8e64759a-c453-4b54-858f-9284f4166c8c",
   "metadata": {},
   "source": [
    "### Display The Genre Names"
   ]
  },
  {
   "cell_type": "code",
   "execution_count": 45,
   "id": "cf4442b9-3aed-4e67-b7d3-4bec6896613f",
   "metadata": {},
   "outputs": [
    {
     "data": {
      "text/plain": [
       "Index(['Country', 'Blues', 'Hip-Hop', 'Pop', 'R&B', 'Classical', 'Electronic',\n",
       "       'Reggae', 'Jazz', 'Rock'],\n",
       "      dtype='object', name='Genre')"
      ]
     },
     "execution_count": 45,
     "metadata": {},
     "output_type": "execute_result"
    }
   ],
   "source": [
    "genreName = genreCount.index\n",
    "genreName"
   ]
  },
  {
   "cell_type": "markdown",
   "id": "986003b1-936e-4391-8342-af182758779a",
   "metadata": {},
   "source": [
    "### Create A Pie Chart"
   ]
  },
  {
   "cell_type": "code",
   "execution_count": 48,
   "id": "951f58bd-da38-4947-9131-a1651e22b01b",
   "metadata": {},
   "outputs": [
    {
     "data": {
      "image/png": "[encoded data removed]",
      "text/plain": [
       "<Figure size 640x480 with 1 Axes>"
      ]
     },
     "metadata": {},
     "output_type": "display_data"
    }
   ],
   "source": [
    "plt.pie(genreCount, labels = genreName, autopct = '%1.1f%%', colors=np.random.rand(len(genreCount), 3))\n",
    "plt.title('Distribution of Songs by Genre')\n",
    "plt.show()"
   ]
  },
  {
   "cell_type": "markdown",
   "id": "d6126bcd-3411-438b-8000-04bbd6ff28ab",
   "metadata": {},
   "source": [
    "### Extract Year From The 'Release Date' Column"
   ]
  },
  {
   "cell_type": "code",
   "execution_count": 51,
   "id": "5074574f-c2d9-499a-b79b-f3686e9f3d2d",
   "metadata": {},
   "outputs": [
    {
     "data": {
      "text/plain": [
       "0        2008\n",
       "1        2011\n",
       "2        2010\n",
       "3        2014\n",
       "4        2005\n",
       "         ... \n",
       "49995    2008\n",
       "49996    2016\n",
       "49997    2013\n",
       "49998    2018\n",
       "49999    2002\n",
       "Name: Year, Length: 50000, dtype: int32"
      ]
     },
     "execution_count": 51,
     "metadata": {},
     "output_type": "execute_result"
    }
   ],
   "source": [
    "df['Year'] = df['Release Date'].dt.year\n",
    "df['Year']"
   ]
  },
  {
   "cell_type": "markdown",
   "id": "d3ec68d0-fec2-4735-9747-691f68fcd28d",
   "metadata": {},
   "source": [
    "### Count The Occurrence Of Songs For Each Year"
   ]
  },
  {
   "cell_type": "code",
   "execution_count": 54,
   "id": "957880c4-c39b-488a-953e-82f1aa25efe4",
   "metadata": {},
   "outputs": [
    {
     "data": {
      "text/plain": [
       "Year\n",
       "2000    2444\n",
       "2001    2240\n",
       "2002    2427\n",
       "2003    2436\n",
       "2004    2404\n",
       "2005    2431\n",
       "2006    2329\n",
       "2007    2365\n",
       "2008    2385\n",
       "2009    2431\n",
       "2010    2317\n",
       "2011    2289\n",
       "2012    2337\n",
       "2013    2409\n",
       "2014    2446\n",
       "2015    2348\n",
       "2016    2318\n",
       "2017    2437\n",
       "2018    2401\n",
       "2019    2383\n",
       "2020    2423\n",
       "Name: count, dtype: int64"
      ]
     },
     "execution_count": 54,
     "metadata": {},
     "output_type": "execute_result"
    }
   ],
   "source": [
    "song_perYear = df['Year'].value_counts().sort_index()\n",
    "song_perYear"
   ]
  },
  {
   "cell_type": "markdown",
   "id": "9d4b5e78-e654-4bca-bbf8-b12cc4cd18c3",
   "metadata": {},
   "source": [
    "### Create A Bar Chart"
   ]
  },
  {
   "cell_type": "code",
   "execution_count": 57,
   "id": "ebff7d65-59a3-4f1e-bf95-4dfb4abca909",
   "metadata": {},
   "outputs": [
    {
     "data": {
      "image/png": "[encoded data removed]",
      "text/plain": [
       "<Figure size 640x480 with 1 Axes>"
      ]
     },
     "metadata": {},
     "output_type": "display_data"
    }
   ],
   "source": [
    "plt.bar(song_perYear.index, song_perYear.values, color = 'yellow', edgecolor='black')\n",
    "plt.xlabel('Year')\n",
    "plt.ylabel('Number of Songs Released')\n",
    "plt.title('Number of Songs Released Per Year')\n",
    "plt.show()"
   ]
  },
  {
   "cell_type": "markdown",
   "id": "77b50938-6e1d-48c0-a39f-273747177d77",
   "metadata": {},
   "source": [
    "### Average Popularity Of Song For Each Year"
   ]
  },
  {
   "cell_type": "code",
   "execution_count": 68,
   "id": "e7c91e0d-0409-4681-a202-d3afee584ebc",
   "metadata": {},
   "outputs": [
    {
     "data": {
      "text/plain": [
       "Year\n",
       "2000    50.451718\n",
       "2001    49.548661\n",
       "2002    50.967862\n",
       "2003    50.258621\n",
       "2004    50.353993\n",
       "2005    50.776635\n",
       "2006    49.418205\n",
       "2007    51.194926\n",
       "2008    50.329560\n",
       "2009    50.351296\n",
       "2010    49.915839\n",
       "2011    50.756225\n",
       "2012    50.501070\n",
       "2013    49.934413\n",
       "2014    49.289452\n",
       "2015    49.670784\n",
       "2016    50.752804\n",
       "2017    49.516619\n",
       "2018    49.461474\n",
       "2019    50.603861\n",
       "2020    51.452332\n",
       "Name: Popularity, dtype: float64"
      ]
     },
     "execution_count": 68,
     "metadata": {},
     "output_type": "execute_result"
    }
   ],
   "source": [
    "avg_popularity_by_year = df.groupby('Year')['Popularity'].mean()\n",
    "avg_popularity_by_year"
   ]
  },
  {
   "cell_type": "markdown",
   "id": "3231afa4-d71a-43aa-b183-08f0ea7992b7",
   "metadata": {},
   "source": [
    "### Create A Line Chart"
   ]
  },
  {
   "cell_type": "code",
   "execution_count": 70,
   "id": "19f76226-ff43-4666-989e-4a350b9ea586",
   "metadata": {},
   "outputs": [
    {
     "data": {
      "image/png": "[encoded data removed]",
      "text/plain": [
       "<Figure size 640x480 with 1 Axes>"
      ]
     },
     "metadata": {},
     "output_type": "display_data"
    }
   ],
   "source": [
    "plt.plot(avg_popularity_by_year.index, avg_popularity_by_year.values, marker = 'o', color = 'skyblue')\n",
    "plt.xlabel('Year')\n",
    "plt.ylabel('Average Popularity')\n",
    "plt.title('Average Popularity of Songs by Year')\n",
    "plt.grid()\n",
    "plt.show()"
   ]
  },
  {
   "cell_type": "markdown",
   "id": "ab29b27f-c734-47d6-9d5b-2d27acb411d2",
   "metadata": {},
   "source": [
    "## Calculate Mean Duration By Genre"
   ]
  },
  {
   "cell_type": "code",
   "execution_count": 93,
   "id": "c6513b58-135a-4eac-81ed-c1a71cb58260",
   "metadata": {},
   "outputs": [
    {
     "data": {
      "text/plain": [
       "Genre\n",
       "Blues         209.889433\n",
       "Classical     210.752615\n",
       "Country       209.051391\n",
       "Electronic    209.563808\n",
       "Hip-Hop       208.853566\n",
       "Jazz          209.446447\n",
       "Pop           209.061082\n",
       "R&B           210.180575\n",
       "Reggae        209.572382\n",
       "Rock          211.127004\n",
       "Name: Duration, dtype: float64"
      ]
     },
     "execution_count": 93,
     "metadata": {},
     "output_type": "execute_result"
    }
   ],
   "source": [
    "mean_duration_by_genre = df.groupby('Genre')['Duration'].mean()\n",
    "mean_duration_by_genre"
   ]
  },
  {
   "cell_type": "markdown",
   "id": "c3177d2d-e7aa-4ca3-9a2e-ef2e87e49b87",
   "metadata": {},
   "source": [
    "## Create A Boxplot"
   ]
  },
  {
   "cell_type": "code",
   "execution_count": 96,
   "id": "962f62ea-9887-494e-b820-be87c56a184b",
   "metadata": {},
   "outputs": [
    {
     "data": {
      "image/png": "[encoded data removed]",
      "text/plain": [
       "<Figure size 1000x600 with 1 Axes>"
      ]
     },
     "metadata": {},
     "output_type": "display_data"
    }
   ],
   "source": [
    "plt.figure(figsize=(10, 6))\n",
    "sns.boxplot(x='Genre', y='Duration', data=df)\n",
    "plt.xlabel('Genre')\n",
    "plt.ylabel('Duration')\n",
    "plt.title('Boxplot Of Duration By Genre')\n",
    "plt.show()"
   ]
  }
 ],
 "metadata": {
  "kernelspec": {
   "display_name": "Python 3 (ipykernel)",
   "language": "python",
   "name": "python3"
  },
  "language_info": {
   "codemirror_mode": {
    "name": "ipython",
    "version": 3
   },
   "file_extension": ".py",
   "mimetype": "text/x-python",
   "name": "python",
   "nbconvert_exporter": "python",
   "pygments_lexer": "ipython3",
   "version": "3.12.4"
  }
 },
 "nbformat": 4,
 "nbformat_minor": 5
}
